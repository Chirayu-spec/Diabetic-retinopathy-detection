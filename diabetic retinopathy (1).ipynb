{
 "cells": [
  {
   "cell_type": "markdown",
   "id": "ff5131a5",
   "metadata": {},
   "source": [
    "# Diabetic Retinopathy detection"
   ]
  },
  {
   "cell_type": "markdown",
   "id": "58100eaf",
   "metadata": {},
   "source": [
    "### 1.Importing liabraries"
   ]
  },
  {
   "cell_type": "code",
   "execution_count": 117,
   "id": "53f0548a",
   "metadata": {},
   "outputs": [],
   "source": [
    "import pandas as pd\n",
    "import numpy as np\n",
    "import cv2\n",
    "import os\n",
    "import glob\n",
    "from sklearn.model_selection import train_test_split\n",
    "from sklearn.ensemble import RandomForestClassifier\n",
    "from sklearn.metrics import accuracy_score, classification_report\n",
    "from skimage.feature import local_binary_pattern\n",
    "from sklearn.neighbors import KNeighborsClassifier\n",
    "from sklearn.linear_model import LogisticRegression\n",
    "from sklearn.tree import DecisionTreeClassifier\n",
    "from sklearn import svm\n",
    "from sklearn.metrics import jaccard_score\n",
    "from sklearn.metrics import f1_score\n",
    "from sklearn.metrics import log_loss\n",
    "from sklearn.metrics import confusion_matrix, accuracy_score\n",
    "import sklearn.metrics as metrics\n",
    "import matplotlib.pyplot as plt\n",
    "import seaborn as sns"
   ]
  },
  {
   "cell_type": "markdown",
   "id": "a527fc7f",
   "metadata": {},
   "source": [
    "### 2. defining functions and data extraction."
   ]
  },
  {
   "cell_type": "code",
   "execution_count": 106,
   "id": "1c0198a6",
   "metadata": {},
   "outputs": [],
   "source": [
    "def load_and_preprocess_data(data_dir, csv_file):\n",
    "    images = []\n",
    "    labels = []\n",
    "    image_filenames = []  # To store the corresponding image file names\n",
    "\n",
    "    # Load the CSV file\n",
    "    data_df = pd.read_csv(csv_file)\n",
    "\n",
    "    for index, row in data_df.iterrows():\n",
    "        image_filename = row['id_code']\n",
    "        class_label = row['diagnosis']\n",
    "\n",
    "        # Build the full path to the image file\n",
    "        image_path = os.path.join(data_dir, f'{image_filename}.png')  # Assuming images have a .png extension\n",
    "\n",
    "        if os.path.isfile(image_path):\n",
    "            # Load the image and preprocess it\n",
    "            image = cv2.imread(image_path)\n",
    "            if image is not None:  # Check if image loading was successful\n",
    "                image = cv2.cvtColor(image, cv2.COLOR_BGR2GRAY)  # Convert to grayscale\n",
    "                image = cv2.resize(image, (128, 128))  # Resize to a consistent size\n",
    "\n",
    "                images.append(image)\n",
    "                labels.append(class_label)\n",
    "                image_filenames.append(image_filename)\n",
    "            else:\n",
    "                print(f\"Failed to load image: {image_path}\")\n",
    "\n",
    "    return images, labels, image_filenames"
   ]
  },
  {
   "cell_type": "code",
   "execution_count": 107,
   "id": "e0fdc4e2",
   "metadata": {},
   "outputs": [],
   "source": [
    "def extract_lbp_feature(images):\n",
    "    lbp_features = []\n",
    "    for image in images:\n",
    "        lbp = local_binary_pattern(image, P=8, R=1, method=\"uniform\")\n",
    "        lbp_hist, _ = np.histogram(lbp.ravel(), bins=np.arange(0, 59), range=(0, 58))\n",
    "        lbp_features.append(lbp_hist)\n",
    "\n",
    "    return lbp_features\n"
   ]
  },
  {
   "cell_type": "code",
   "execution_count": 111,
   "id": "fccfca6b",
   "metadata": {},
   "outputs": [],
   "source": [
    "data_dir = 'F:/data/Diabetic retinopathy/gaussian_filtered_images/gaussian_filtered_images/all'\n",
    "csv_file = \"C:/Users/Chirayu/Downloads/train.csv\"  # Replace with the correct path to your CSV file\n",
    "images, labels, image_filenames = load_and_preprocess_data(data_dir, csv_file)\n",
    "lbp_features = extract_lbp_feature(images)\n",
    "# Create a DataFrame with the required data\n",
    "data_dict = {\n",
    "    'id_code': image_filenames,\n",
    "    'diagnosis': labels,\n",
    "}\n",
    "for i in range(len(lbp_features[0])):\n",
    "    data_dict[f'feature_{i+1}'] = [feat[i] for feat in lbp_features]\n",
    "\n",
    "output_df = pd.DataFrame(data_dict)\n",
    "\n",
    "# Save the data to a new CSV file\n",
    "output_df.to_csv('output_data.csv', index=False)"
   ]
  },
  {
   "cell_type": "markdown",
   "id": "23888f0d",
   "metadata": {},
   "source": [
    "### 3. Splitting data into traning and testing dataset."
   ]
  },
  {
   "cell_type": "code",
   "execution_count": 112,
   "id": "107ad056",
   "metadata": {},
   "outputs": [],
   "source": [
    "X_train, X_test, y_train, y_test = train_test_split(lbp_features, labels, test_size=0.2, random_state=42)\n"
   ]
  },
  {
   "cell_type": "markdown",
   "id": "1b044915",
   "metadata": {},
   "source": [
    "### 4. prediction and evaluation using Random forest classifier"
   ]
  },
  {
   "cell_type": "code",
   "execution_count": 123,
   "id": "cf8f05de",
   "metadata": {},
   "outputs": [
    {
     "data": {
      "text/plain": [
       "RandomForestClassifier(random_state=42)"
      ]
     },
     "execution_count": 123,
     "metadata": {},
     "output_type": "execute_result"
    }
   ],
   "source": [
    "classifier = RandomForestClassifier(n_estimators=100, random_state=42)\n",
    "classifier.fit(X_train, y_train)"
   ]
  },
  {
   "cell_type": "code",
   "execution_count": 124,
   "id": "278d9de2",
   "metadata": {},
   "outputs": [],
   "source": [
    "y_pred = classifier.predict(X_test)"
   ]
  },
  {
   "cell_type": "code",
   "execution_count": 125,
   "id": "e5f79ce4",
   "metadata": {},
   "outputs": [
    {
     "name": "stdout",
     "output_type": "stream",
     "text": [
      "Accuracy: 0.7285129604365621\n",
      "Classification Report:\n",
      "              precision    recall  f1-score   support\n",
      "\n",
      "           0       0.89      0.95      0.92       351\n",
      "           1       0.40      0.25      0.31        68\n",
      "           2       0.59      0.80      0.68       213\n",
      "           3       0.40      0.11      0.17        36\n",
      "           4       0.47      0.12      0.20        65\n",
      "\n",
      "    accuracy                           0.73       733\n",
      "   macro avg       0.55      0.45      0.46       733\n",
      "weighted avg       0.70      0.73      0.69       733\n",
      "\n"
     ]
    }
   ],
   "source": [
    "accuracy = accuracy_score(y_test, y_pred)\n",
    "report = classification_report(y_test, y_pred)\n",
    "\n",
    "# Print the evaluation results\n",
    "print(\"Accuracy:\", accuracy)\n",
    "print(\"Classification Report:\")\n",
    "print(report)"
   ]
  },
  {
   "cell_type": "markdown",
   "id": "bef81f01",
   "metadata": {},
   "source": [
    "### 5. prediction and evaluation using KNN classifier"
   ]
  },
  {
   "cell_type": "code",
   "execution_count": 137,
   "id": "b5ee76e1",
   "metadata": {},
   "outputs": [
    {
     "data": {
      "text/plain": [
       "KNeighborsClassifier()"
      ]
     },
     "execution_count": 137,
     "metadata": {},
     "output_type": "execute_result"
    }
   ],
   "source": [
    "k=5\n",
    "KNN = KNeighborsClassifier(n_neighbors=k).fit(X_train, y_train)\n",
    "KNN"
   ]
  },
  {
   "cell_type": "code",
   "execution_count": 138,
   "id": "0764b9d6",
   "metadata": {},
   "outputs": [],
   "source": [
    "predictions = KNN.predict(X_test)"
   ]
  },
  {
   "cell_type": "code",
   "execution_count": 140,
   "id": "6fa245d0",
   "metadata": {},
   "outputs": [
    {
     "name": "stdout",
     "output_type": "stream",
     "text": [
      "KNN_Accuracy_Score : 0.7094133697135061\n",
      "KNN_JaccardIndex : 0.5756134266201822\n",
      "KNN_F1_Score : 0.6759179815692242\n"
     ]
    }
   ],
   "source": [
    "KNN_Accuracy_Score = metrics.accuracy_score(y_test, predictions)\n",
    "KNN_JaccardIndex = metrics.jaccard_score(y_test, predictions,average='weighted')\n",
    "KNN_F1_Score = metrics.f1_score(y_test, predictions,average='weighted')\n",
    "#KNN_Log_Loss = metrics.log_loss(y_test, predictions,labels=[0,1,2,3,4])\n",
    "print(\"KNN_Accuracy_Score :\", KNN_Accuracy_Score)\n",
    "print(\"KNN_JaccardIndex :\" , KNN_JaccardIndex)\n",
    "print(\"KNN_F1_Score :\", KNN_F1_Score)\n",
    "#print(\"KNN_Log_Loss :\", KNN_Log_Loss)"
   ]
  },
  {
   "cell_type": "markdown",
   "id": "90cce5e6",
   "metadata": {},
   "source": [
    "### 6.prediction and evaluation using Decision Tree classifier"
   ]
  },
  {
   "cell_type": "code",
   "execution_count": 142,
   "id": "7f0fb36b",
   "metadata": {},
   "outputs": [
    {
     "data": {
      "text/plain": [
       "DecisionTreeClassifier(criterion='entropy', max_depth=5)"
      ]
     },
     "execution_count": 142,
     "metadata": {},
     "output_type": "execute_result"
    }
   ],
   "source": [
    "Tree = DecisionTreeClassifier(criterion =\"entropy\",max_depth = 5)\n",
    "Tree.fit(X_train, y_train)"
   ]
  },
  {
   "cell_type": "code",
   "execution_count": 143,
   "id": "058d5f03",
   "metadata": {},
   "outputs": [],
   "source": [
    "predictions_tree = Tree.predict(X_test)"
   ]
  },
  {
   "cell_type": "code",
   "execution_count": 152,
   "id": "725568c8",
   "metadata": {},
   "outputs": [
    {
     "name": "stdout",
     "output_type": "stream",
     "text": [
      "Tree_Accuracy_Score : 0.6998635743519782\n",
      "Tree_JaccardIndex : 0.5403765622769512\n",
      "Tree_F1_Score : 0.6362770124827999\n"
     ]
    }
   ],
   "source": [
    "Tree_Accuracy_Score = metrics.accuracy_score(y_test, predictions_tree)\n",
    "Tree_JaccardIndex = metrics.jaccard_score(y_test, predictions_tree, average='weighted')\n",
    "Tree_F1_Score = metrics.f1_score(y_test, predictions_tree,average= 'weighted')\n",
    "#Tree_Log_Loss = metrics.log_loss(y_test, predictions_tree, labels =[0 1 2 3 4])\n",
    "print(\"Tree_Accuracy_Score :\", Tree_Accuracy_Score)\n",
    "print(\"Tree_JaccardIndex :\" , Tree_JaccardIndex)\n",
    "print(\"Tree_F1_Score :\", Tree_F1_Score)\n",
    "#print(\"Tree_Log_Loss :\", Tree_Log_Loss)"
   ]
  },
  {
   "cell_type": "markdown",
   "id": "f9cef989",
   "metadata": {},
   "source": [
    "### 7. prediction and evaluation using Logistic regression"
   ]
  },
  {
   "cell_type": "code",
   "execution_count": 154,
   "id": "04f94741",
   "metadata": {},
   "outputs": [
    {
     "data": {
      "text/plain": [
       "LogisticRegression(C=0.01, solver='liblinear')"
      ]
     },
     "execution_count": 154,
     "metadata": {},
     "output_type": "execute_result"
    }
   ],
   "source": [
    "LR = LogisticRegression(C=0.01, solver =\"liblinear\").fit(X_train,y_train)\n",
    "LR"
   ]
  },
  {
   "cell_type": "code",
   "execution_count": 155,
   "id": "45cb6ef8",
   "metadata": {},
   "outputs": [],
   "source": [
    "predictions_LR = LR.predict(X_test)"
   ]
  },
  {
   "cell_type": "code",
   "execution_count": 157,
   "id": "c1a835ec",
   "metadata": {},
   "outputs": [
    {
     "name": "stdout",
     "output_type": "stream",
     "text": [
      "LR_Accuracy_Score : 0.7121418826739427\n",
      "LR_JaccardIndex : 0.5489806279601199\n",
      "LR_F1_Score : 0.6464728592076198\n"
     ]
    }
   ],
   "source": [
    "LR_Accuracy_Score = metrics.accuracy_score(y_test, predictions_LR)\n",
    "LR_JaccardIndex = metrics.jaccard_score(y_test, predictions_LR,average='weighted')\n",
    "LR_F1_Score = metrics.f1_score(y_test, predictions_LR,average='weighted')\n",
    "#LR_Log_Loss = metrics.log_loss(y_test, predictions_LR)\n",
    "print(\"LR_Accuracy_Score :\", LR_Accuracy_Score)\n",
    "print(\"LR_JaccardIndex :\" , LR_JaccardIndex)\n",
    "print(\"LR_F1_Score :\", LR_F1_Score)\n",
    "#print(\"LR_Log_Loss :\", LR_Log_Loss)"
   ]
  },
  {
   "cell_type": "markdown",
   "id": "2a1f0d7c",
   "metadata": {},
   "source": [
    "### 8.prediction and evaluation using SVM classifier."
   ]
  },
  {
   "cell_type": "code",
   "execution_count": 159,
   "id": "8fd97021",
   "metadata": {},
   "outputs": [
    {
     "data": {
      "text/plain": [
       "SVC(kernel='linear')"
      ]
     },
     "execution_count": 159,
     "metadata": {},
     "output_type": "execute_result"
    }
   ],
   "source": [
    "from sklearn.svm import SVC\n",
    "SVM = SVC(kernel= 'linear')\n",
    "SVM.fit(X_train, y_train)"
   ]
  },
  {
   "cell_type": "code",
   "execution_count": 161,
   "id": "62a98cee",
   "metadata": {},
   "outputs": [],
   "source": [
    "predictions_SVM = SVM.predict(X_test)"
   ]
  },
  {
   "cell_type": "code",
   "execution_count": 163,
   "id": "532a64ad",
   "metadata": {},
   "outputs": [
    {
     "name": "stdout",
     "output_type": "stream",
     "text": [
      "SVM_Accuracy_Score : 0.7121418826739427\n",
      "SVM_JaccardIndex : 0.5619719945294624\n",
      "SVM_F1_Score : 0.6529937230009057\n"
     ]
    }
   ],
   "source": [
    "SVM_Accuracy_Score = metrics.accuracy_score(y_test, predictions_SVM)\n",
    "SVM_JaccardIndex = metrics.jaccard_score(y_test, predictions_SVM, average='weighted')\n",
    "SVM_F1_Score = metrics.f1_score(y_test, predictions_SVM,average='weighted')\n",
    "#SVM_Log_Loss = metrics.log_loss(y_test, predictions_SVM)\n",
    "print(\"SVM_Accuracy_Score :\", SVM_Accuracy_Score)\n",
    "print(\"SVM_JaccardIndex :\" , SVM_JaccardIndex)\n",
    "print(\"SVM_F1_Score :\", SVM_F1_Score)\n",
    "#print(\"SVM_Log_Loss :\", SVM_Log_Loss)"
   ]
  },
  {
   "cell_type": "code",
   "execution_count": 164,
   "id": "621a5ece",
   "metadata": {},
   "outputs": [],
   "source": [
    "err = {'KNN':[KNN_Accuracy_Score,KNN_JaccardIndex,KNN_F1_Score],\n",
    "        'Tree':[Tree_Accuracy_Score,Tree_JaccardIndex,Tree_F1_Score],\n",
    "        'LR': [LR_Accuracy_Score,LR_JaccardIndex,LR_F1_Score],\n",
    "        'SVM':[SVM_Accuracy_Score,SVM_JaccardIndex,SVM_F1_Score]}\n",
    "errors = pd.DataFrame(data=err, index=['Accuracy_score','Jaccard_index', 'F1_score'])"
   ]
  },
  {
   "cell_type": "code",
   "execution_count": 165,
   "id": "53b69962",
   "metadata": {},
   "outputs": [
    {
     "data": {
      "text/html": [
       "<div>\n",
       "<style scoped>\n",
       "    .dataframe tbody tr th:only-of-type {\n",
       "        vertical-align: middle;\n",
       "    }\n",
       "\n",
       "    .dataframe tbody tr th {\n",
       "        vertical-align: top;\n",
       "    }\n",
       "\n",
       "    .dataframe thead th {\n",
       "        text-align: right;\n",
       "    }\n",
       "</style>\n",
       "<table border=\"1\" class=\"dataframe\">\n",
       "  <thead>\n",
       "    <tr style=\"text-align: right;\">\n",
       "      <th></th>\n",
       "      <th>KNN</th>\n",
       "      <th>Tree</th>\n",
       "      <th>LR</th>\n",
       "      <th>SVM</th>\n",
       "    </tr>\n",
       "  </thead>\n",
       "  <tbody>\n",
       "    <tr>\n",
       "      <th>Accuracy_score</th>\n",
       "      <td>0.709413</td>\n",
       "      <td>0.699864</td>\n",
       "      <td>0.712142</td>\n",
       "      <td>0.712142</td>\n",
       "    </tr>\n",
       "    <tr>\n",
       "      <th>Jaccard_index</th>\n",
       "      <td>0.575613</td>\n",
       "      <td>0.540377</td>\n",
       "      <td>0.548981</td>\n",
       "      <td>0.561972</td>\n",
       "    </tr>\n",
       "    <tr>\n",
       "      <th>F1_score</th>\n",
       "      <td>0.675918</td>\n",
       "      <td>0.636277</td>\n",
       "      <td>0.646473</td>\n",
       "      <td>0.652994</td>\n",
       "    </tr>\n",
       "  </tbody>\n",
       "</table>\n",
       "</div>"
      ],
      "text/plain": [
       "                     KNN      Tree        LR       SVM\n",
       "Accuracy_score  0.709413  0.699864  0.712142  0.712142\n",
       "Jaccard_index   0.575613  0.540377  0.548981  0.561972\n",
       "F1_score        0.675918  0.636277  0.646473  0.652994"
      ]
     },
     "execution_count": 165,
     "metadata": {},
     "output_type": "execute_result"
    }
   ],
   "source": [
    "errors"
   ]
  },
  {
   "cell_type": "markdown",
   "id": "b45c36de",
   "metadata": {},
   "source": [
    "## Therefore here we can see that Random forest classifier fits best for diabetic retinopathy."
   ]
  }
 ],
 "metadata": {
  "kernelspec": {
   "display_name": "Python 3",
   "language": "python",
   "name": "python3"
  },
  "language_info": {
   "codemirror_mode": {
    "name": "ipython",
    "version": 3
   },
   "file_extension": ".py",
   "mimetype": "text/x-python",
   "name": "python",
   "nbconvert_exporter": "python",
   "pygments_lexer": "ipython3",
   "version": "3.8.8"
  }
 },
 "nbformat": 4,
 "nbformat_minor": 5
}
